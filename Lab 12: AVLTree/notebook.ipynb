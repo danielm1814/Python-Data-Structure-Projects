{
  "cells": [
    {
      "metadata": {
        "state": "normal"
      },
      "cell_type": "markdown",
      "source": "# Lab 12: AVLTree\n\n## Overview\n\nIn this notebook you will complete the following implementation of the balanced (AVL) binary search tree. Note that you should *not* be implementing the map-based API described in the plain (unbalanced) BSTree notebook — i.e., nodes in the AVLTree will only contain a single value."
    },
    {
      "metadata": {
        "deletable": false,
        "id": "avltree",
        "nbgrader": {
          "grade": false,
          "grade_id": "avltree",
          "locked": false,
          "schema_version": 1,
          "solution": true
        },
        "starter_code": "class AVLTree:\n    class Node:\n        def __init__(self, val, left=None, right=None):\n            self.val = val\n            self.left = left\n            self.right = right\n\n        def rotate_right(self):\n            n = self.left\n            self.val, n.val = n.val, self.val\n            self.left, n.left, self.right, n.right = n.left, n.right, n, self.right\n            \n        def rotate_left(self):\n            \n        \n        @staticmethod\n        def height(n):\n            if not n:\n                return 0\n            else:\n                return max(1+AVLTree.Node.height(n.left), 1+AVLTree.Node.height(n.right))\n\n    def __init__(self):\n        self.size = 0\n        self.root = None\n            \n    @staticmethod\n    def rebalance(t):\n        \n            \n    def add(self, val):\n        assert(val not in self)\n        \n        \n    def __delitem__(self, val):\n        assert(val in self)\n        \n        \n    def __contains__(self, val):\n        def contains_rec(node):\n            if not node:\n                return False\n            elif val < node.val:\n                return contains_rec(node.left)\n            elif val > node.val:\n                return contains_rec(node.right)\n            else:\n                return True\n        return contains_rec(self.root)\n    \n    def __len__(self):\n        return self.size\n    \n    def __iter__(self):\n        def iter_rec(node):\n            if node:\n                yield from iter_rec(node.left)\n                yield node.val\n                yield from iter_rec(node.right)\n        yield from iter_rec(self.root)\n        \n    def pprint(self, width=64):\n        \"\"\"Attempts to pretty-print this tree's contents.\"\"\"\n        height = self.height()\n        nodes  = [(self.root, 0)]\n        prev_level = 0\n        repr_str = ''\n        while nodes:\n            n,level = nodes.pop(0)\n            if prev_level != level:\n                prev_level = level\n                repr_str += '\\n'\n            if not n:\n                if level < height-1:\n                    nodes.extend([(None, level+1), (None, level+1)])\n                repr_str += '{val:^{width}}'.format(val='-', width=width//2**level)\n            elif n:\n                if n.left or level < height-1:\n                    nodes.append((n.left, level+1))\n                if n.right or level < height-1:\n                    nodes.append((n.right, level+1))\n                repr_str += '{val:^{width}}'.format(val=n.val, width=width//2**level)\n        print(repr_str)\n    \n    def height(self):\n        \"\"\"Returns the height of the longest branch of the tree.\"\"\"\n        def height_rec(t):\n            if not t:\n                return 0\n            else:\n                return max(1+height_rec(t.left), 1+height_rec(t.right))\n        return height_rec(self.root)",
        "state": "graded",
        "trusted": true
      },
      "cell_type": "code",
      "source": "class AVLTree:\n    class Node:\n        def __init__(self, val, left=None, right=None):\n            self.val = val\n            self.left = left\n            self.right = right\n\n        def rotate_right(self):\n            n = self.left\n            self.val, n.val = n.val, self.val\n            self.left, n.left, self.right, n.right = n.left, n.right, n, self.right\n            \n        def rotate_left(self):\n            n = self.right\n            self.val, n.val = n.val, self.val\n            self.left, self.right, n.right, n.left = n, n.right, n.left, self.left\n        \n        @staticmethod\n        def height(n):\n            if not n:\n                return 0\n            else:\n                return max(1+AVLTree.Node.height(n.left), 1+AVLTree.Node.height(n.right))\n\n    def __init__(self):\n        self.size = 0\n        self.root = None\n            \n    @staticmethod\n    def rebalance(t):\n        if AVLTree.Node.height(t.left) > AVLTree.Node.height(t.right):\n            if AVLTree.Node.height(t.left.left) >= AVLTree.Node.height(t.left.right):\n                #print ('left-left inbalance detected')\n                t.rotate_right()\n            else:\n                #print ('left-right inbalance detected')\n                t.left.rotate_left()\n                t.rotate_right()\n        else:\n            if AVLTree.Node.height(t.right.right) >= AVLTree.Node.height(t.right.left):\n                #print ('right-right inbalance detected')\n                t.rotate_left()\n            else:\n                #print ('right-left inbalance detected')\n                t.right.rotate_right()\n                t.rotate_left()\n            \n    def add(self, val):\n        assert(val not in self)\n        def add_rec(node):\n            if not node:\n                return AVLTree.Node(val)\n            elif val < node.val:\n                node.left = add_rec(node.left)\n            else:\n                node.right = add_rec(node.right)\n            if abs(AVLTree.Node.height(node.left) - AVLTree.Node.height(node.right)) >= 2:\n                AVLTree.rebalance(node)\n            return node\n        self.root = add_rec(self.root)\n        self.size += 1\n        \n    def __delitem__(self, val):\n        assert(val in self)\n        def delitem_rec(node):\n            if val < node.val:\n                node.left = delitem_rec(node.left)\n            elif val > node.val:\n                node.right = delitem_rec(node.right)\n            else:\n                if not node.left and not node.right:\n                    return None\n                elif node.left and not node.right:\n                    return node.left\n                elif node.right and not node.left:\n                    return node.right\n                else:\n                    t = node.left\n                    if not t.right:\n                        node.val = t.val\n                        node.left = t.left\n                    else:\n                        arrs = []\n                        n = t\n                        arrs.append(n)\n                        while n.right.right:\n                            n = n.right\n                            arrs.append(n)\n                        t = n.right\n                        n.right = t.left\n                        node.val = t.val\n                        arrs.reverse()\n                        for n in arrs:\n                            if abs(AVLTree.Node.height(n.left) - AVLTree.Node.height(n.right)) > 1:\n                                AVLTree.rebalance(n)\n                                \n            if abs(AVLTree.Node.height(node.left) - AVLTree.Node.height(node.right)) >= 2:\n                                AVLTree.rebalance(node)\n            return node\n        \n        \n        self.root = delitem_rec(self.root)\n        self.size -= 1\n                        \n            \n        \n    def __contains__(self, val):\n        def contains_rec(node):\n            if not node:\n                return False\n            elif val < node.val:\n                return contains_rec(node.left)\n            elif val > node.val:\n                return contains_rec(node.right)\n            else:\n                return True\n        return contains_rec(self.root)\n    \n    def __len__(self):\n        return self.size\n    \n    def __iter__(self):\n        def iter_rec(node):\n            if node:\n                yield from iter_rec(node.left)\n                yield node.val\n                yield from iter_rec(node.right)\n        yield from iter_rec(self.root)\n        \n    def pprint(self, width=64):\n        \"\"\"Attempts to pretty-print this tree's contents.\"\"\"\n        height = self.height()\n        nodes  = [(self.root, 0)]\n        prev_level = 0\n        repr_str = ''\n        while nodes:\n            n,level = nodes.pop(0)\n            if prev_level != level:\n                prev_level = level\n                repr_str += '\\n'\n            if not n:\n                if level < height-1:\n                    nodes.extend([(None, level+1), (None, level+1)])\n                repr_str += '{val:^{width}}'.format(val='-', width=width//2**level)\n            elif n:\n                if n.left or level < height-1:\n                    nodes.append((n.left, level+1))\n                if n.right or level < height-1:\n                    nodes.append((n.right, level+1))\n                repr_str += '{val:^{width}}'.format(val=n.val, width=width//2**level)\n        print(repr_str)\n    \n    def height(self):\n        \"\"\"Returns the height of the longest branch of the tree.\"\"\"\n        def height_rec(t):\n            if not t:\n                return 0\n            else:\n                return max(1+height_rec(t.left), 1+height_rec(t.right))\n        return height_rec(self.root)\n\n    \n    \n    \n",
      "execution_count": 215,
      "outputs": []
    },
    {
      "metadata": {
        "trusted": true,
        "state": "normal"
      },
      "cell_type": "code",
      "source": "t = AVLTree()\n",
      "execution_count": 221,
      "outputs": []
    },
    {
      "metadata": {
        "trusted": true,
        "state": "normal"
      },
      "cell_type": "code",
      "source": "for i in range(1, 32):\n    t.add(i)\nt.pprint()",
      "execution_count": 222,
      "outputs": [
        {
          "output_type": "stream",
          "text": "                               16                               \n               8                               24               \n       4               12              20              28       \n   2       6       10      14      18      22      26      30   \n 1   3   5   7   9   11  13  15  17  19  21  23  25  27  29  31 \n",
          "name": "stdout"
        }
      ]
    },
    {
      "metadata": {
        "trusted": true
      },
      "cell_type": "code",
      "source": "",
      "execution_count": null,
      "outputs": []
    },
    {
      "metadata": {
        "trusted": true,
        "state": "normal"
      },
      "cell_type": "code",
      "source": "t.__delitem__(15)\nt.__delitem__(14)\nt.pprint()",
      "execution_count": 223,
      "outputs": [
        {
          "output_type": "stream",
          "text": "                               16                               \n               8                               24               \n       4               12              20              28       \n   2       6       10      13      18      22      26      30   \n 1   3   5   7   9   11  -   -   17  19  21  23  25  27  29  31 \n",
          "name": "stdout"
        }
      ]
    },
    {
      "metadata": {
        "trusted": true,
        "state": "normal"
      },
      "cell_type": "code",
      "source": "t.__delitem__(13)\nt.pprint()",
      "execution_count": 224,
      "outputs": [
        {
          "output_type": "stream",
          "text": "                               16                               \n               8                               24               \n       4               10              20              28       \n   2       6       9       12      18      22      26      30   \n 1   3   5   7   -   -   11  -   17  19  21  23  25  27  29  31 \n",
          "name": "stdout"
        }
      ]
    },
    {
      "metadata": {
        "deletable": false,
        "editable": false,
        "id": "ll_test",
        "nbgrader": {
          "grade": true,
          "grade_id": "ll_test",
          "locked": true,
          "points": 3,
          "schema_version": 1,
          "solution": false
        },
        "state": "read_only",
        "trusted": true
      },
      "cell_type": "code",
      "source": "# LL-fix (simple) test\n# 3 points\n\nfrom unittest import TestCase\n\ndef height(t):\n    if not t:\n        return 0\n    else:\n        return max(1+height(t.left), 1+height(t.right))\n\ntc = TestCase()\nt = AVLTree()\n\nfor x in [3, 2, 1]:\n    t.add(x)\n    \ntc.assertEqual(height(t.root), 2)\ntc.assertEqual([t.root.left.val, t.root.val, t.root.right.val], [1, 2, 3])",
      "execution_count": 225,
      "outputs": []
    },
    {
      "metadata": {
        "deletable": false,
        "editable": false,
        "id": "rr_test",
        "nbgrader": {
          "grade": true,
          "grade_id": "rr_test",
          "locked": true,
          "points": 3,
          "schema_version": 1,
          "solution": false
        },
        "state": "read_only",
        "trusted": true
      },
      "cell_type": "code",
      "source": "# RR-fix (simple) test\n# 3 points\n\nfrom unittest import TestCase\n\ndef height(t):\n    if not t:\n        return 0\n    else:\n        return max(1+height(t.left), 1+height(t.right))\n\ntc = TestCase()\nt = AVLTree()\n\nfor x in [1, 2, 3]:\n    t.add(x)\n    \ntc.assertEqual(height(t.root), 2)\ntc.assertEqual([t.root.left.val, t.root.val, t.root.right.val], [1, 2, 3])",
      "execution_count": 226,
      "outputs": []
    },
    {
      "metadata": {
        "deletable": false,
        "editable": false,
        "id": "lr_test",
        "nbgrader": {
          "grade": true,
          "grade_id": "lr_test",
          "locked": true,
          "points": 3,
          "schema_version": 1,
          "solution": false
        },
        "state": "read_only",
        "trusted": true
      },
      "cell_type": "code",
      "source": "# LR-fix (simple) test\n# 3 points\n\nfrom unittest import TestCase\n\ndef height(t):\n    if not t:\n        return 0\n    else:\n        return max(1+height(t.left), 1+height(t.right))\n\ntc = TestCase()\nt = AVLTree()\n\nfor x in [3, 1, 2]:\n    t.add(x)\n    \ntc.assertEqual(height(t.root), 2)\ntc.assertEqual([t.root.left.val, t.root.val, t.root.right.val], [1, 2, 3])",
      "execution_count": 227,
      "outputs": []
    },
    {
      "metadata": {
        "deletable": false,
        "editable": false,
        "id": "rl_test",
        "nbgrader": {
          "grade": true,
          "grade_id": "rl_test",
          "locked": true,
          "points": 3,
          "schema_version": 1,
          "solution": false
        },
        "state": "read_only",
        "trusted": true
      },
      "cell_type": "code",
      "source": "# RL-fix (simple) test\n# 3 points\n\nfrom unittest import TestCase\n\ndef height(t):\n    if not t:\n        return 0\n    else:\n        return max(1+height(t.left), 1+height(t.right))\n\ntc = TestCase()\nt = AVLTree()\n\nfor x in [1, 3, 2]:\n    t.add(x)\n    \ntc.assertEqual(height(t.root), 2)\ntc.assertEqual([t.root.left.val, t.root.val, t.root.right.val], [1, 2, 3])",
      "execution_count": 228,
      "outputs": []
    },
    {
      "metadata": {
        "deletable": false,
        "editable": false,
        "id": "sort_test",
        "nbgrader": {
          "grade": true,
          "grade_id": "sort_test",
          "locked": true,
          "points": 15,
          "schema_version": 1,
          "solution": false
        },
        "state": "read_only",
        "trusted": true
      },
      "cell_type": "code",
      "source": "# ensure key order is maintained after insertions and removals\n# 10 points\n\nfrom unittest import TestCase\nimport random\n\ntc = TestCase()\nvals = list(range(0, 100000000, 333333))\nrandom.shuffle(vals)\n\nt = AVLTree()\nfor x in vals:\n    t.add(x)\n\nfor _ in range(len(vals) // 3):\n    to_rem = vals.pop(random.randrange(len(vals)))\n    del t[to_rem]\n\nvals.sort()\n\nfor i,val in enumerate(t):\n    tc.assertEqual(val, vals[i])",
      "execution_count": 229,
      "outputs": []
    },
    {
      "metadata": {
        "deletable": false,
        "editable": false,
        "id": "balance_test",
        "nbgrader": {
          "grade": true,
          "grade_id": "balance_test",
          "locked": true,
          "points": 15,
          "schema_version": 1,
          "solution": false
        },
        "state": "read_only",
        "trusted": true
      },
      "cell_type": "code",
      "source": "# stress testing\n# 10 points\n\nfrom unittest import TestCase\nimport random\n\ntc = TestCase()\n\ndef traverse(t, fn):\n    if t:\n        fn(t)\n        traverse(t.left, fn)\n        traverse(t.right, fn)\n\ndef height(t):\n    if not t:\n        return 0\n    else:\n        return max(1+height(t.left), 1+height(t.right))\n    \ndef check_balance(t):\n    tc.assertLess(abs(height(t.left) - height(t.right)), 2, 'Tree is out of balance')\n\nt = AVLTree()\nvals = list(range(1000))\nrandom.shuffle(vals)\nfor i in range(len(vals)):\n    t.add(vals[i])\n    for x in vals[:i+1]:\n        tc.assertIn(x, t, 'Element added not in tree')\n    traverse(t.root, check_balance)\n\nrandom.shuffle(vals)\nfor i in range(len(vals)):\n    del t[vals[i]]\n    for x in vals[i+1:]:\n        tc.assertIn(x, t, 'Incorrect element removed from tree')\n    for x in vals[:i+1]:\n        tc.assertNotIn(x, t, 'Element removed still in tree')\n    traverse(t.root, check_balance)",
      "execution_count": 230,
      "outputs": []
    },
    {
      "metadata": {
        "trusted": true,
        "state": "normal"
      },
      "cell_type": "code",
      "source": "",
      "execution_count": null,
      "outputs": []
    },
    {
      "metadata": {
        "trusted": true
      },
      "cell_type": "code",
      "source": "",
      "execution_count": null,
      "outputs": []
    },
    {
      "metadata": {
        "trusted": true
      },
      "cell_type": "code",
      "source": "",
      "execution_count": null,
      "outputs": []
    }
  ],
  "metadata": {
    "kernelspec": {
      "display_name": "Python 3",
      "language": "python",
      "name": "python3"
    },
    "language_info": {
      "codemirror_mode": {
        "name": "ipython",
        "version": 3
      },
      "file_extension": ".py",
      "mimetype": "text/x-python",
      "name": "python",
      "nbconvert_exporter": "python",
      "pygments_lexer": "ipython3",
      "version": "3.7.3"
    },
    "mimir": {
      "project_id": "e8d38c73-bc5c-4f29-b9a0-5cd3c5e9f133",
      "last_submission_id": "6d5a381e-c5f0-4026-bb13-6fda57f3abc4",
      "data": {}
    },
    "varInspector": {
      "cols": {
        "lenName": 16,
        "lenType": 16,
        "lenVar": 40
      },
      "kernels_config": {
        "python": {
          "delete_cmd_postfix": "",
          "delete_cmd_prefix": "del ",
          "library": "var_list.py",
          "varRefreshCmd": "print(var_dic_list())"
        },
        "r": {
          "delete_cmd_postfix": ") ",
          "delete_cmd_prefix": "rm(",
          "library": "var_list.r",
          "varRefreshCmd": "cat(var_dic_list()) "
        }
      },
      "types_to_exclude": [
        "module",
        "function",
        "builtin_function_or_method",
        "instance",
        "_Feature"
      ],
      "window_display": false
    }
  },
  "nbformat": 4,
  "nbformat_minor": 2
}